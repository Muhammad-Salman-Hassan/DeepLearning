{
  "nbformat": 4,
  "nbformat_minor": 0,
  "metadata": {
    "colab": {
      "name": "Filters_CNN.ipynb",
      "provenance": [],
      "authorship_tag": "ABX9TyOwRS0Rpfm+HXJMR9bv4aIN",
      "include_colab_link": true
    },
    "kernelspec": {
      "name": "python3",
      "display_name": "Python 3"
    },
    "language_info": {
      "name": "python"
    }
  },
  "cells": [
    {
      "cell_type": "markdown",
      "metadata": {
        "id": "view-in-github",
        "colab_type": "text"
      },
      "source": [
        "<a href=\"https://colab.research.google.com/github/Muhammad-Salman-Hassan/DeepLearning/blob/main/Filters_CNN.ipynb\" target=\"_parent\"><img src=\"https://colab.research.google.com/assets/colab-badge.svg\" alt=\"Open In Colab\"/></a>"
      ]
    },
    {
      "cell_type": "code",
      "metadata": {
        "id": "bSFCjU9pzu_U"
      },
      "source": [
        "#Filters in CNN"
      ],
      "execution_count": null,
      "outputs": []
    },
    {
      "cell_type": "markdown",
      "metadata": {
        "id": "5sSgBteD0FW8"
      },
      "source": [
        "One of the main components of CNNs are filters, which are square \n",
        "matrices that have dimensions nK × nK, where nK is an integer and is usually \n",
        "a small number, like 3 or 5. Sometimes filters are also called kernels.May be you can use photoshop for bluring the image sharpening the image and many opereation these are done by kernals or filters"
      ]
    },
    {
      "cell_type": "code",
      "metadata": {
        "id": "U1B48c9w0Liz"
      },
      "source": [
        "import numpy as np\n"
      ],
      "execution_count": 2,
      "outputs": []
    },
    {
      "cell_type": "markdown",
      "metadata": {
        "id": "QrEXMAqX1tBg"
      },
      "source": [
        "**The following kernel will allow the detection of \n",
        "horizontal edges**"
      ]
    },
    {
      "cell_type": "code",
      "metadata": {
        "colab": {
          "base_uri": "https://localhost:8080/"
        },
        "id": "0EJK8z190mR4",
        "outputId": "ed7ad9ae-4cd4-4f71-c308-efaa14bc3808"
      },
      "source": [
        "\n",
        "arr=[[1,1,1],[0,0,0],[-1,-1,-1]]\n"
      ],
      "execution_count": 5,
      "outputs": [
        {
          "output_type": "execute_result",
          "data": {
            "text/plain": [
              "[[1, 1, 1], [0, 0, 0], [-1, -1, -1]]"
            ]
          },
          "metadata": {
            "tags": []
          },
          "execution_count": 5
        }
      ]
    },
    {
      "cell_type": "code",
      "metadata": {
        "colab": {
          "base_uri": "https://localhost:8080/"
        },
        "id": "_2kH5sN11aCN",
        "outputId": "03017362-36ac-41e7-fcb5-2cb51d581313"
      },
      "source": [
        "Hor_edge=np.array(arr)\n",
        "Hor_edge"
      ],
      "execution_count": 12,
      "outputs": [
        {
          "output_type": "execute_result",
          "data": {
            "text/plain": [
              "array([[ 1,  0, -1],\n",
              "       [ 1,  0, -1],\n",
              "       [ 1,  0, -1]])"
            ]
          },
          "metadata": {
            "tags": []
          },
          "execution_count": 12
        }
      ]
    },
    {
      "cell_type": "markdown",
      "metadata": {
        "id": "HBPrVg5J15e-"
      },
      "source": [
        "**The following kernel will allow the detection of vertical \n",
        "edges**"
      ]
    },
    {
      "cell_type": "code",
      "metadata": {
        "id": "HPpxbdL61f_r"
      },
      "source": [
        "\n",
        "arr_ver=[[1,0,-1],[1,0,-1],[1,0,-1]]\n"
      ],
      "execution_count": 9,
      "outputs": []
    },
    {
      "cell_type": "code",
      "metadata": {
        "colab": {
          "base_uri": "https://localhost:8080/"
        },
        "id": "L6wu2pPW2COP",
        "outputId": "9c24d058-de44-4fde-875f-d59ffc199d0a"
      },
      "source": [
        "Ver_edge=np.array(arr_ver)\n",
        "Ver_edge"
      ],
      "execution_count": 10,
      "outputs": [
        {
          "output_type": "execute_result",
          "data": {
            "text/plain": [
              "array([[ 1,  0, -1],\n",
              "       [ 1,  0, -1],\n",
              "       [ 1,  0, -1]])"
            ]
          },
          "metadata": {
            "tags": []
          },
          "execution_count": 10
        }
      ]
    },
    {
      "cell_type": "markdown",
      "metadata": {
        "id": "8m8oE15E2SVf"
      },
      "source": [
        "**The following kernel will allow the detection of edges \n",
        "when luminosity changes drastically**"
      ]
    },
    {
      "cell_type": "code",
      "metadata": {
        "id": "Bmi7COxI2H7p"
      },
      "source": [
        "\n",
        "arr_lum=[[-1,-1,-1],[-1,8,-1],[-1,-1,-1]]\n"
      ],
      "execution_count": 14,
      "outputs": []
    },
    {
      "cell_type": "code",
      "metadata": {
        "colab": {
          "base_uri": "https://localhost:8080/"
        },
        "id": "ecRjXfma2aoi",
        "outputId": "acf18cc9-e3df-433b-c2f6-b979225a74aa"
      },
      "source": [
        "Ver_edge=np.array(arr_lum)\n",
        "Ver_edge"
      ],
      "execution_count": 15,
      "outputs": [
        {
          "output_type": "execute_result",
          "data": {
            "text/plain": [
              "array([[-1, -1, -1],\n",
              "       [-1,  8, -1],\n",
              "       [-1, -1, -1]])"
            ]
          },
          "metadata": {
            "tags": []
          },
          "execution_count": 15
        }
      ]
    },
    {
      "cell_type": "code",
      "metadata": {
        "id": "OvJ2eSIb2fo1"
      },
      "source": [
        "'''\n",
        "Note all above kernal have 3 by 3 shape mean we have 3 rows and 3 columns\n",
        "'''"
      ],
      "execution_count": null,
      "outputs": []
    }
  ]
}