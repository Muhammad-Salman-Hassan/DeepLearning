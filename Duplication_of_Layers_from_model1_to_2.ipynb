{
  "nbformat": 4,
  "nbformat_minor": 0,
  "metadata": {
    "colab": {
      "name": "Duplication_of Layers_from_model1_to_2.ipynb",
      "provenance": [],
      "collapsed_sections": [],
      "authorship_tag": "ABX9TyPa4ehsC8BFizGV1Y2Fchcz",
      "include_colab_link": true
    },
    "kernelspec": {
      "name": "python3",
      "display_name": "Python 3"
    },
    "language_info": {
      "name": "python"
    }
  },
  "cells": [
    {
      "cell_type": "markdown",
      "metadata": {
        "id": "view-in-github",
        "colab_type": "text"
      },
      "source": [
        "<a href=\"https://colab.research.google.com/github/Muhammad-Salman-Hassan/DeepLearning/blob/main/Duplication_of_Layers_from_model1_to_2.ipynb\" target=\"_parent\"><img src=\"https://colab.research.google.com/assets/colab-badge.svg\" alt=\"Open In Colab\"/></a>"
      ]
    },
    {
      "cell_type": "code",
      "metadata": {
        "id": "jhpfQHg1R-0X"
      },
      "source": [
        "import tensorflow as tf\n",
        "import keras"
      ],
      "execution_count": 1,
      "outputs": []
    },
    {
      "cell_type": "markdown",
      "metadata": {
        "id": "JXnZz6tISOT8"
      },
      "source": [
        "# **Removing Layers**"
      ]
    },
    {
      "cell_type": "markdown",
      "metadata": {
        "id": "V-SaiyUyTcBd"
      },
      "source": [
        "Dropping layers in model and add into another model is very use full Technique in transfer learning lets see how can we perform this type of task \n"
      ]
    },
    {
      "cell_type": "code",
      "metadata": {
        "id": "M6N0cgSOSIei"
      },
      "source": [
        "model=keras.models.Sequential()\n",
        "model.add(keras.layers.Dense(32,activation='relu',kernel_initializer='uniform',input_dim=500,name='Input'))\n",
        "model.add(keras.layers.Dense(32,activation='relu',kernel_initializer='uniform',name='hidden1'))\n",
        "model.add(keras.layers.Dense(32,activation='relu',kernel_initializer='uniform',name='hidden2'))"
      ],
      "execution_count": 3,
      "outputs": []
    },
    {
      "cell_type": "code",
      "metadata": {
        "colab": {
          "base_uri": "https://localhost:8080/"
        },
        "id": "UOTSogomSawn",
        "outputId": "5351ab44-7dd7-48ae-d21e-937a0849f855"
      },
      "source": [
        "model.summary()"
      ],
      "execution_count": 4,
      "outputs": [
        {
          "output_type": "stream",
          "text": [
            "Model: \"sequential_1\"\n",
            "_________________________________________________________________\n",
            "Layer (type)                 Output Shape              Param #   \n",
            "=================================================================\n",
            "Input (Dense)                (None, 32)                16032     \n",
            "_________________________________________________________________\n",
            "hidden1 (Dense)              (None, 32)                1056      \n",
            "_________________________________________________________________\n",
            "hidden2 (Dense)              (None, 32)                1056      \n",
            "=================================================================\n",
            "Total params: 18,144\n",
            "Trainable params: 18,144\n",
            "Non-trainable params: 0\n",
            "_________________________________________________________________\n"
          ],
          "name": "stdout"
        }
      ]
    },
    {
      "cell_type": "code",
      "metadata": {
        "colab": {
          "base_uri": "https://localhost:8080/"
        },
        "id": "FEMXK_XgSfJk",
        "outputId": "d73a2810-6c8f-4472-9c82-ded3fea6a37f"
      },
      "source": [
        "model_1=keras.models.Sequential()\n",
        "\n",
        "for layer in model.layers[:-1]:\n",
        "  print(layer.name)\n",
        "  model_1.add(layer)"
      ],
      "execution_count": 10,
      "outputs": [
        {
          "output_type": "stream",
          "text": [
            "Input\n",
            "hidden1\n"
          ],
          "name": "stdout"
        }
      ]
    },
    {
      "cell_type": "code",
      "metadata": {
        "id": "UYKPt-CwUI_o"
      },
      "source": [
        "model_1.add(keras.layers.Dense(32,activation='relu',kernel_initializer='uniform',name='hidden1_model_1'))"
      ],
      "execution_count": 12,
      "outputs": []
    },
    {
      "cell_type": "code",
      "metadata": {
        "colab": {
          "base_uri": "https://localhost:8080/"
        },
        "id": "CEm5IWH3Stg4",
        "outputId": "5d2b2c81-fc13-4e65-827c-6229fc6dd474"
      },
      "source": [
        "#See how can we perform duplication of layers from one model to another\n",
        "\n",
        "model_1.summary()"
      ],
      "execution_count": 13,
      "outputs": [
        {
          "output_type": "stream",
          "text": [
            "Model: \"sequential_7\"\n",
            "_________________________________________________________________\n",
            "Layer (type)                 Output Shape              Param #   \n",
            "=================================================================\n",
            "Input (Dense)                (None, 32)                16032     \n",
            "_________________________________________________________________\n",
            "hidden1 (Dense)              (None, 32)                1056      \n",
            "_________________________________________________________________\n",
            "hidden1_model_1 (Dense)      (None, 32)                1056      \n",
            "=================================================================\n",
            "Total params: 18,144\n",
            "Trainable params: 18,144\n",
            "Non-trainable params: 0\n",
            "_________________________________________________________________\n"
          ],
          "name": "stdout"
        }
      ]
    },
    {
      "cell_type": "code",
      "metadata": {
        "id": "1XfBKnxCTVsx"
      },
      "source": [
        "\"\"\"\n",
        "Author: Muhammad Salman Hassan\n",
        "\"\"\""
      ],
      "execution_count": null,
      "outputs": []
    }
  ]
}