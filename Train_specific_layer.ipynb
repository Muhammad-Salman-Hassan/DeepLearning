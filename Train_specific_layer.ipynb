{
  "nbformat": 4,
  "nbformat_minor": 0,
  "metadata": {
    "colab": {
      "name": "Train_specific_layer.ipynb",
      "provenance": [],
      "authorship_tag": "ABX9TyONrV6bIMk0n8ckZIiPVy5H",
      "include_colab_link": true
    },
    "kernelspec": {
      "name": "python3",
      "display_name": "Python 3"
    },
    "language_info": {
      "name": "python"
    }
  },
  "cells": [
    {
      "cell_type": "markdown",
      "metadata": {
        "id": "view-in-github",
        "colab_type": "text"
      },
      "source": [
        "<a href=\"https://colab.research.google.com/github/Muhammad-Salman-Hassan/DeepLearning/blob/main/Train_specific_layer.ipynb\" target=\"_parent\"><img src=\"https://colab.research.google.com/assets/colab-badge.svg\" alt=\"Open In Colab\"/></a>"
      ]
    },
    {
      "cell_type": "code",
      "metadata": {
        "id": "sEIWZFP5N3Lv"
      },
      "source": [
        "import tensorflow as tf\n",
        "import keras"
      ],
      "execution_count": 1,
      "outputs": []
    },
    {
      "cell_type": "code",
      "metadata": {
        "id": "KXHZ6SNbOBkO"
      },
      "source": [
        "model=keras.models.Sequential()\n",
        "model.add(keras.layers.Dense(32,activation='relu',kernel_initializer='uniform',input_dim=500,name='Input'))\n",
        "model.add(keras.layers.Dense(32,activation='relu',kernel_initializer='uniform',name='hidden1'))\n",
        "model.add(keras.layers.Dense(32,activation='relu',kernel_initializer='uniform',name='hidden2'))\n"
      ],
      "execution_count": 4,
      "outputs": []
    },
    {
      "cell_type": "code",
      "metadata": {
        "colab": {
          "base_uri": "https://localhost:8080/"
        },
        "id": "MaaskzwmOuVZ",
        "outputId": "125c0a16-3f3d-47f1-e078-73291afc433b"
      },
      "source": [
        "model.summary()"
      ],
      "execution_count": 5,
      "outputs": [
        {
          "output_type": "stream",
          "text": [
            "Model: \"sequential_1\"\n",
            "_________________________________________________________________\n",
            "Layer (type)                 Output Shape              Param #   \n",
            "=================================================================\n",
            "Input (Dense)                (None, 32)                16032     \n",
            "_________________________________________________________________\n",
            "hidden1 (Dense)              (None, 32)                1056      \n",
            "_________________________________________________________________\n",
            "hidden2 (Dense)              (None, 32)                1056      \n",
            "=================================================================\n",
            "Total params: 18,144\n",
            "Trainable params: 18,144\n",
            "Non-trainable params: 0\n",
            "_________________________________________________________________\n"
          ],
          "name": "stdout"
        }
      ]
    },
    {
      "cell_type": "code",
      "metadata": {
        "id": "wiOmo9oGOznl"
      },
      "source": [
        "model.get_layer('hidden1').trainable=False"
      ],
      "execution_count": 6,
      "outputs": []
    },
    {
      "cell_type": "code",
      "metadata": {
        "colab": {
          "base_uri": "https://localhost:8080/"
        },
        "id": "jZwrAQm0PZQY",
        "outputId": "7e9b67fe-3538-404c-ebc9-02c2bafebe87"
      },
      "source": [
        "model.summary()"
      ],
      "execution_count": 7,
      "outputs": [
        {
          "output_type": "stream",
          "text": [
            "Model: \"sequential_1\"\n",
            "_________________________________________________________________\n",
            "Layer (type)                 Output Shape              Param #   \n",
            "=================================================================\n",
            "Input (Dense)                (None, 32)                16032     \n",
            "_________________________________________________________________\n",
            "hidden1 (Dense)              (None, 32)                1056      \n",
            "_________________________________________________________________\n",
            "hidden2 (Dense)              (None, 32)                1056      \n",
            "=================================================================\n",
            "Total params: 18,144\n",
            "Trainable params: 17,088\n",
            "Non-trainable params: 1,056\n",
            "_________________________________________________________________\n"
          ],
          "name": "stdout"
        }
      ]
    },
    {
      "cell_type": "code",
      "metadata": {
        "colab": {
          "base_uri": "https://localhost:8080/"
        },
        "id": "gC0YW9a7PkEt",
        "outputId": "2a92e803-c077-4818-f569-deba9001d95c"
      },
      "source": [
        "#Look Trainable params is decreases from 18144 to 17088 or freezes this is how you can Train_specific_layer\n",
        "18144-1056"
      ],
      "execution_count": 8,
      "outputs": [
        {
          "output_type": "execute_result",
          "data": {
            "text/plain": [
              "17088"
            ]
          },
          "metadata": {
            "tags": []
          },
          "execution_count": 8
        }
      ]
    },
    {
      "cell_type": "code",
      "metadata": {
        "id": "NF9cGmLgPrwe"
      },
      "source": [
        ""
      ],
      "execution_count": null,
      "outputs": []
    }
  ]
}